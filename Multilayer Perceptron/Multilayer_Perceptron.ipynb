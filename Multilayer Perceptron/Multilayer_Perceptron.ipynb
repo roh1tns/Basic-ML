{
 "cells": [
  {
   "cell_type": "code",
   "execution_count": 6,
   "id": "4d01b3b2",
   "metadata": {},
   "outputs": [],
   "source": [
    "import numpy as np\n",
    "import pandas as pd\n",
    "import seaborn as sns"
   ]
  },
  {
   "cell_type": "code",
   "execution_count": 7,
   "id": "189be4a0",
   "metadata": {},
   "outputs": [],
   "source": [
    "data = sns.load_dataset('iris')"
   ]
  },
  {
   "cell_type": "code",
   "execution_count": 8,
   "id": "a7ab5435",
   "metadata": {},
   "outputs": [
    {
     "data": {
      "text/html": [
       "<div>\n",
       "<style scoped>\n",
       "    .dataframe tbody tr th:only-of-type {\n",
       "        vertical-align: middle;\n",
       "    }\n",
       "\n",
       "    .dataframe tbody tr th {\n",
       "        vertical-align: top;\n",
       "    }\n",
       "\n",
       "    .dataframe thead th {\n",
       "        text-align: right;\n",
       "    }\n",
       "</style>\n",
       "<table border=\"1\" class=\"dataframe\">\n",
       "  <thead>\n",
       "    <tr style=\"text-align: right;\">\n",
       "      <th></th>\n",
       "      <th>sepal_length</th>\n",
       "      <th>sepal_width</th>\n",
       "      <th>petal_length</th>\n",
       "      <th>petal_width</th>\n",
       "      <th>species</th>\n",
       "    </tr>\n",
       "  </thead>\n",
       "  <tbody>\n",
       "    <tr>\n",
       "      <th>0</th>\n",
       "      <td>5.1</td>\n",
       "      <td>3.5</td>\n",
       "      <td>1.4</td>\n",
       "      <td>0.2</td>\n",
       "      <td>setosa</td>\n",
       "    </tr>\n",
       "    <tr>\n",
       "      <th>1</th>\n",
       "      <td>4.9</td>\n",
       "      <td>3.0</td>\n",
       "      <td>1.4</td>\n",
       "      <td>0.2</td>\n",
       "      <td>setosa</td>\n",
       "    </tr>\n",
       "    <tr>\n",
       "      <th>2</th>\n",
       "      <td>4.7</td>\n",
       "      <td>3.2</td>\n",
       "      <td>1.3</td>\n",
       "      <td>0.2</td>\n",
       "      <td>setosa</td>\n",
       "    </tr>\n",
       "    <tr>\n",
       "      <th>3</th>\n",
       "      <td>4.6</td>\n",
       "      <td>3.1</td>\n",
       "      <td>1.5</td>\n",
       "      <td>0.2</td>\n",
       "      <td>setosa</td>\n",
       "    </tr>\n",
       "    <tr>\n",
       "      <th>4</th>\n",
       "      <td>5.0</td>\n",
       "      <td>3.6</td>\n",
       "      <td>1.4</td>\n",
       "      <td>0.2</td>\n",
       "      <td>setosa</td>\n",
       "    </tr>\n",
       "  </tbody>\n",
       "</table>\n",
       "</div>"
      ],
      "text/plain": [
       "   sepal_length  sepal_width  petal_length  petal_width species\n",
       "0           5.1          3.5           1.4          0.2  setosa\n",
       "1           4.9          3.0           1.4          0.2  setosa\n",
       "2           4.7          3.2           1.3          0.2  setosa\n",
       "3           4.6          3.1           1.5          0.2  setosa\n",
       "4           5.0          3.6           1.4          0.2  setosa"
      ]
     },
     "execution_count": 8,
     "metadata": {},
     "output_type": "execute_result"
    }
   ],
   "source": [
    "data.head()"
   ]
  },
  {
   "cell_type": "code",
   "execution_count": 9,
   "id": "eb0faf64",
   "metadata": {},
   "outputs": [],
   "source": [
    "from sklearn.preprocessing import LabelEncoder"
   ]
  },
  {
   "cell_type": "code",
   "execution_count": 11,
   "id": "7a9582f5",
   "metadata": {},
   "outputs": [
    {
     "data": {
      "text/plain": [
       "0      0\n",
       "1      0\n",
       "2      0\n",
       "3      0\n",
       "4      0\n",
       "      ..\n",
       "145    2\n",
       "146    2\n",
       "147    2\n",
       "148    2\n",
       "149    2\n",
       "Name: species, Length: 150, dtype: int64"
      ]
     },
     "execution_count": 11,
     "metadata": {},
     "output_type": "execute_result"
    }
   ],
   "source": [
    "le = LabelEncoder()\n",
    "data['species'] = le.fit_transform(data['species'])\n",
    "data['species']"
   ]
  },
  {
   "cell_type": "code",
   "execution_count": 15,
   "id": "d5180f73",
   "metadata": {},
   "outputs": [],
   "source": [
    "x = data[['sepal_length', 'sepal_width', 'petal_length', 'petal_width']]\n",
    "y = data['species']"
   ]
  },
  {
   "cell_type": "code",
   "execution_count": 16,
   "id": "bda668a1",
   "metadata": {},
   "outputs": [],
   "source": [
    "from sklearn.model_selection import train_test_split"
   ]
  },
  {
   "cell_type": "code",
   "execution_count": 17,
   "id": "bae9ed18",
   "metadata": {},
   "outputs": [],
   "source": [
    "x_train, x_test, y_train, y_test = train_test_split(x, y, test_size=0.2, random_state=42)"
   ]
  },
  {
   "cell_type": "code",
   "execution_count": 18,
   "id": "c684753e",
   "metadata": {},
   "outputs": [],
   "source": [
    "from sklearn.neural_network import MLPClassifier"
   ]
  },
  {
   "cell_type": "code",
   "execution_count": 28,
   "id": "181d4bb7",
   "metadata": {},
   "outputs": [
    {
     "name": "stdout",
     "output_type": "stream",
     "text": [
      "Iteration 1, loss = 1.33666767\n",
      "Iteration 2, loss = 1.26296628\n",
      "Iteration 3, loss = 1.19603224\n",
      "Iteration 4, loss = 1.13461046\n",
      "Iteration 5, loss = 1.08175429\n",
      "Iteration 6, loss = 1.04401393\n",
      "Iteration 7, loss = 1.01213783\n",
      "Iteration 8, loss = 0.98377896\n",
      "Iteration 9, loss = 0.95905358\n",
      "Iteration 10, loss = 0.93626705\n",
      "Iteration 11, loss = 0.91394615\n",
      "Iteration 12, loss = 0.89292608\n",
      "Iteration 13, loss = 0.87261598\n",
      "Iteration 14, loss = 0.85242008\n",
      "Iteration 15, loss = 0.83176271\n",
      "Iteration 16, loss = 0.81005808\n",
      "Iteration 17, loss = 0.78730000\n",
      "Iteration 18, loss = 0.76320767\n",
      "Iteration 19, loss = 0.73792196\n",
      "Iteration 20, loss = 0.71269820\n",
      "Iteration 21, loss = 0.68822645\n",
      "Iteration 22, loss = 0.66479273\n",
      "Iteration 23, loss = 0.64173728\n",
      "Iteration 24, loss = 0.61843957\n",
      "Iteration 25, loss = 0.59499179\n",
      "Iteration 26, loss = 0.57155317\n",
      "Iteration 27, loss = 0.54760154\n",
      "Iteration 28, loss = 0.52348397\n",
      "Iteration 29, loss = 0.50017537\n",
      "Iteration 30, loss = 0.47773827\n",
      "Iteration 31, loss = 0.45636053\n",
      "Iteration 32, loss = 0.43611832\n",
      "Iteration 33, loss = 0.41696638\n",
      "Iteration 34, loss = 0.39882429\n",
      "Iteration 35, loss = 0.38149311\n",
      "Iteration 36, loss = 0.36491870\n",
      "Iteration 37, loss = 0.34894594\n",
      "Iteration 38, loss = 0.33352190\n",
      "Iteration 39, loss = 0.31922873\n",
      "Iteration 40, loss = 0.30634063\n",
      "Iteration 41, loss = 0.29424370\n",
      "Iteration 42, loss = 0.28280768\n",
      "Iteration 43, loss = 0.27195813\n",
      "Iteration 44, loss = 0.26149003\n",
      "Iteration 45, loss = 0.25137241\n",
      "Iteration 46, loss = 0.24167667\n",
      "Iteration 47, loss = 0.23239288\n",
      "Iteration 48, loss = 0.22316687\n",
      "Iteration 49, loss = 0.21461498\n",
      "Iteration 50, loss = 0.20652584\n",
      "Iteration 51, loss = 0.19868783\n",
      "Iteration 52, loss = 0.19127697\n",
      "Iteration 53, loss = 0.18423554\n",
      "Iteration 54, loss = 0.17737259\n",
      "Iteration 55, loss = 0.17077094\n",
      "Iteration 56, loss = 0.16454367\n",
      "Iteration 57, loss = 0.15854624\n",
      "Iteration 58, loss = 0.15291692\n",
      "Iteration 59, loss = 0.14768857\n",
      "Iteration 60, loss = 0.14266553\n",
      "Iteration 61, loss = 0.13800575\n",
      "Iteration 62, loss = 0.13351801\n",
      "Iteration 63, loss = 0.12925083\n",
      "Iteration 64, loss = 0.12526238\n",
      "Iteration 65, loss = 0.12142437\n",
      "Iteration 66, loss = 0.11786477\n",
      "Iteration 67, loss = 0.11450708\n",
      "Iteration 68, loss = 0.11139073\n",
      "Iteration 69, loss = 0.10852113\n",
      "Iteration 70, loss = 0.10577931\n",
      "Iteration 71, loss = 0.10324205\n",
      "Iteration 72, loss = 0.10079135\n",
      "Iteration 73, loss = 0.09850448\n",
      "Iteration 74, loss = 0.09633103\n",
      "Iteration 75, loss = 0.09430651\n",
      "Iteration 76, loss = 0.09238606\n",
      "Iteration 77, loss = 0.09058523\n",
      "Iteration 78, loss = 0.08886375\n",
      "Iteration 79, loss = 0.08723448\n",
      "Iteration 80, loss = 0.08567661\n",
      "Iteration 81, loss = 0.08419367\n",
      "Iteration 82, loss = 0.08277755\n",
      "Iteration 83, loss = 0.08143381\n",
      "Iteration 84, loss = 0.08014153\n",
      "Iteration 85, loss = 0.07891965\n",
      "Iteration 86, loss = 0.07774334\n",
      "Iteration 87, loss = 0.07663149\n",
      "Iteration 88, loss = 0.07555647\n",
      "Iteration 89, loss = 0.07454069\n",
      "Iteration 90, loss = 0.07356248\n",
      "Iteration 91, loss = 0.07263199\n",
      "Iteration 92, loss = 0.07174326\n",
      "Iteration 93, loss = 0.07088896\n",
      "Iteration 94, loss = 0.07007683\n",
      "Iteration 95, loss = 0.06929406\n",
      "Iteration 96, loss = 0.06854909\n",
      "Iteration 97, loss = 0.06783917\n",
      "Iteration 98, loss = 0.06715391\n",
      "Iteration 99, loss = 0.06650555\n",
      "Iteration 100, loss = 0.06588315\n",
      "Iteration 101, loss = 0.06528680\n",
      "Iteration 102, loss = 0.06472172\n",
      "Iteration 103, loss = 0.06417856\n",
      "Iteration 104, loss = 0.06365960\n",
      "Iteration 105, loss = 0.06316703\n",
      "Iteration 106, loss = 0.06269400\n",
      "Iteration 107, loss = 0.06224152\n",
      "Iteration 108, loss = 0.06181183\n",
      "Iteration 109, loss = 0.06140043\n",
      "Iteration 110, loss = 0.06100585\n",
      "Iteration 111, loss = 0.06063109\n",
      "Iteration 112, loss = 0.06027543\n",
      "Iteration 113, loss = 0.05993443\n",
      "Iteration 114, loss = 0.05960806\n",
      "Iteration 115, loss = 0.05929635\n",
      "Iteration 116, loss = 0.05899867\n",
      "Iteration 117, loss = 0.05871367\n",
      "Iteration 118, loss = 0.05844090\n",
      "Iteration 119, loss = 0.05818030\n",
      "Iteration 120, loss = 0.05793171\n",
      "Iteration 121, loss = 0.05769394\n",
      "Iteration 122, loss = 0.05746612\n",
      "Iteration 123, loss = 0.05724766\n",
      "Iteration 124, loss = 0.05703804\n",
      "Iteration 125, loss = 0.05683679\n",
      "Iteration 126, loss = 0.05664339\n",
      "Iteration 127, loss = 0.05645742\n",
      "Iteration 128, loss = 0.05627965\n",
      "Iteration 129, loss = 0.05610893\n",
      "Iteration 130, loss = 0.05594538\n",
      "Iteration 131, loss = 0.05578980\n",
      "Iteration 132, loss = 0.05564486\n",
      "Iteration 133, loss = 0.05551398\n",
      "Iteration 134, loss = 0.05539862\n",
      "Iteration 135, loss = 0.05527770\n",
      "Iteration 136, loss = 0.05511971\n",
      "Iteration 137, loss = 0.05494883\n",
      "Iteration 138, loss = 0.05482631\n",
      "Iteration 139, loss = 0.05473886\n",
      "Iteration 140, loss = 0.05462594\n",
      "Iteration 141, loss = 0.05448156\n",
      "Iteration 142, loss = 0.05436643\n",
      "Iteration 143, loss = 0.05428459\n",
      "Iteration 144, loss = 0.05418414\n",
      "Iteration 145, loss = 0.05406157\n",
      "Iteration 146, loss = 0.05395868\n",
      "Iteration 147, loss = 0.05388025\n",
      "Iteration 148, loss = 0.05379020\n",
      "Iteration 149, loss = 0.05368308\n",
      "Iteration 150, loss = 0.05359009\n",
      "Iteration 151, loss = 0.05351534\n",
      "Iteration 152, loss = 0.05343345\n",
      "Iteration 153, loss = 0.05333994\n",
      "Iteration 154, loss = 0.05325335\n",
      "Iteration 155, loss = 0.05318061\n",
      "Iteration 156, loss = 0.05310739\n",
      "Iteration 157, loss = 0.05302535\n",
      "Iteration 158, loss = 0.05294396\n",
      "Iteration 159, loss = 0.05287190\n",
      "Iteration 160, loss = 0.05280464\n",
      "Training loss did not improve more than tol=0.000100 for 10 consecutive epochs. Stopping.\n"
     ]
    },
    {
     "data": {
      "text/plain": [
       "MLPClassifier(hidden_layer_sizes=(6, 5), learning_rate_init=0.01,\n",
       "              random_state=5, verbose=True)"
      ]
     },
     "execution_count": 28,
     "metadata": {},
     "output_type": "execute_result"
    }
   ],
   "source": [
    "clf = MLPClassifier(hidden_layer_sizes=(6, 5), random_state=5, verbose=True, learning_rate_init=0.01)\n",
    "clf.fit(x_train, y_train)"
   ]
  },
  {
   "cell_type": "code",
   "execution_count": 29,
   "id": "c86390fd",
   "metadata": {},
   "outputs": [],
   "source": [
    "y_pred = clf.predict(x_test)"
   ]
  },
  {
   "cell_type": "code",
   "execution_count": 32,
   "id": "7d7739d8",
   "metadata": {},
   "outputs": [],
   "source": [
    "from sklearn.metrics import confusion_matrix, accuracy_score\n",
    "import matplotlib.pyplot as plt"
   ]
  },
  {
   "cell_type": "code",
   "execution_count": 34,
   "id": "08731b99",
   "metadata": {},
   "outputs": [
    {
     "data": {
      "text/plain": [
       "Text(0.5, 1.0, 'Accuracy score: 1.0')"
      ]
     },
     "execution_count": 34,
     "metadata": {},
     "output_type": "execute_result"
    },
    {
     "data": {
      "image/png": "[encoded data removed]",
      "text/plain": [
       "<Figure size 360x360 with 2 Axes>"
      ]
     },
     "metadata": {
      "needs_background": "light"
     },
     "output_type": "display_data"
    }
   ],
   "source": [
    "cm = confusion_matrix(y_test, y_pred)\n",
    "plt.figure(figsize=(5, 5))\n",
    "sns.heatmap(data=cm, linewidth=0.5, annot=True, square=True, cmap='Blues')\n",
    "plt.ylabel('Actual Label')\n",
    "plt.xlabel('Predicted Label')\n",
    "all_sample_title = 'Accuracy score: {0}'.format(accuracy_score(y_test, y_pred))\n",
    "plt.title(all_sample_title, size = 15)"
   ]
  }
 ],
 "metadata": {
  "kernelspec": {
   "display_name": "Python 3 (ipykernel)",
   "language": "python",
   "name": "python3"
  },
  "language_info": {
   "codemirror_mode": {
    "name": "ipython",
    "version": 3
   },
   "file_extension": ".py",
   "mimetype": "text/x-python",
   "name": "python",
   "nbconvert_exporter": "python",
   "pygments_lexer": "ipython3",
   "version": "3.9.7"
  }
 },
 "nbformat": 4,
 "nbformat_minor": 5
}
